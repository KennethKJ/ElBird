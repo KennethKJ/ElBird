{
 "cells": [
  {
   "cell_type": "markdown",
   "metadata": {},
   "source": [
    "<h1> Training the Electric Birder on the God damned cloud! </h1>\n",
    "\n",
    "Pardon my French. This has been a very long time coming :/"
   ]
  },
  {
   "cell_type": "code",
   "execution_count": null,
   "metadata": {},
   "outputs": [],
   "source": [
    "!pip install keras"
   ]
  },
  {
   "cell_type": "code",
   "execution_count": null,
   "metadata": {},
   "outputs": [],
   "source": [
    "!pip install tensorflow --upgrade"
   ]
  },
  {
   "cell_type": "code",
   "execution_count": null,
   "metadata": {},
   "outputs": [],
   "source": [
    "!pip uninstall tb-nightly"
   ]
  },
  {
   "cell_type": "code",
   "execution_count": null,
   "metadata": {},
   "outputs": [],
   "source": [
    "!pip install matplotlib"
   ]
  },
  {
   "cell_type": "code",
   "execution_count": null,
   "metadata": {},
   "outputs": [],
   "source": [
    "!pip install numpy"
   ]
  },
  {
   "cell_type": "code",
   "execution_count": null,
   "metadata": {},
   "outputs": [],
   "source": [
    "!pip install pandas==0.24"
   ]
  },
  {
   "cell_type": "code",
   "execution_count": 2,
   "metadata": {
    "pycharm": {
     "is_executing": false
    }
   },
   "outputs": [
    {
     "name": "stderr",
     "output_type": "stream",
     "text": [
      "'gcloud' is not recognized as an internal or external command,\n",
      "operable program or batch file.\n"
     ]
    }
   ],
   "source": [
    "!gcloud components update -q"
   ]
  },
  {
   "cell_type": "code",
   "execution_count": null,
   "metadata": {},
   "outputs": [],
   "source": [
    "BUCKET = 'electric-birder-71281-bird-db'\n",
    "PROJECT = 'electric-birder-71281'\n",
    "REGION = 'us-east1'"
   ]
  },
  {
   "cell_type": "markdown",
   "metadata": {},
   "source": [
    "DNN MAaster JEnsen login"
   ]
  },
  {
   "cell_type": "code",
   "execution_count": 5,
   "metadata": {},
   "outputs": [],
   "source": [
    "BUCKET = 'elbird'\n",
    "PROJECT = 'coastal-volt-239023'\n",
    "REGION = 'us-east1'"
   ]
  },
  {
   "cell_type": "code",
   "execution_count": 6,
   "metadata": {},
   "outputs": [],
   "source": [
    "import os\n",
    "os.environ['BUCKET'] = BUCKET\n",
    "os.environ['PROJECT'] = PROJECT\n",
    "os.environ['REGION'] = REGION\n",
    "os.environ['TFVERSION'] = '1.13'  "
   ]
  },
  {
   "cell_type": "code",
   "execution_count": 7,
   "metadata": {},
   "outputs": [
    {
     "name": "stderr",
     "output_type": "stream",
     "text": [
      "Updated property [core/project].\n",
      "Updated property [compute/region].\n"
     ]
    }
   ],
   "source": [
    "%bash\n",
    "gcloud config set project $PROJECT\n",
    "gcloud config set compute/region $REGION"
   ]
  },
  {
   "cell_type": "code",
   "execution_count": null,
   "metadata": {},
   "outputs": [],
   "source": [
    "%bash\n",
    "gsutil ls \"gs://electric-birder-71281-bird-db/Birds_dB/Mappings/\""
   ]
  },
  {
   "cell_type": "code",
   "execution_count": null,
   "metadata": {},
   "outputs": [],
   "source": [
    "%bash\n",
    "echo \"bucket=${BUCKET}\"\n",
    "#rm -rf babyweight_trained\n",
    "export PYTHONPATH=${PYTHONPATH}:${PWD}\n",
    "python -m train_model.task \\\n",
    "  --output_dir=\"gs://elbird-working-dir/Estimator_Output/5/\" \\\n",
    "  --datapath=\"gs://elbird/Birds_dB/Images/\"\n",
    "  #--bucket=${BUCKET} \\\n",
    "  #--job-dir=./tmp \\\n",
    "  #--pattern=\"00000-of-\" --train_examples=1 --eval_steps=1"
   ]
  },
  {
   "cell_type": "code",
   "execution_count": null,
   "metadata": {},
   "outputs": [],
   "source": [
    "# !gsutil defacl set public-read gs://$BUCKET\n",
    "# !gsutil defacl set public-read gs://electric-birder-71281\n"
   ]
  },
  {
   "cell_type": "code",
   "execution_count": null,
   "metadata": {},
   "outputs": [],
   "source": [
    "%%bash\n",
    "echo \"bucket=${BUCKET}\"\n",
    "export PYTHONPATH=${PYTHONPATH}:${PWD}\n"
   ]
  },
  {
   "cell_type": "markdown",
   "metadata": {},
   "source": [
    "# Tensorboard monitoring"
   ]
  },
  {
   "cell_type": "code",
   "execution_count": 3,
   "metadata": {},
   "outputs": [
    {
     "data": {
      "text/html": [
       "<p>TensorBoard was started successfully with pid 233. Click <a href=\"/_proxy/58531/\" target=\"_blank\">here</a> to access it.</p>"
      ]
     },
     "metadata": {},
     "output_type": "display_data"
    },
    {
     "data": {
      "text/plain": [
       "233"
      ]
     },
     "execution_count": 3,
     "metadata": {},
     "output_type": "execute_result"
    }
   ],
   "source": [
    "from google.datalab.ml import TensorBoard\n",
    "\n",
    "TensorBoard().start(\"gs://elbird-working-dir/Estimator_Output/23\")\n",
    "                    "
   ]
  },
  {
   "cell_type": "code",
   "execution_count": 1,
   "metadata": {},
   "outputs": [
    {
     "ename": "NameError",
     "evalue": "name 'TensorBoard' is not defined",
     "output_type": "error",
     "traceback": [
      "\u001b[0;31m---------------------------------------------------------------------------\u001b[0m",
      "\u001b[0;31mNameError\u001b[0m                                 Traceback (most recent call last)",
      "\u001b[0;32m<ipython-input-1-bed0747517bf>\u001b[0m in \u001b[0;36m<module>\u001b[0;34m()\u001b[0m\n\u001b[0;32m----> 1\u001b[0;31m \u001b[0;32mfor\u001b[0m \u001b[0mpid\u001b[0m \u001b[0;32min\u001b[0m \u001b[0mTensorBoard\u001b[0m\u001b[0;34m.\u001b[0m\u001b[0mlist\u001b[0m\u001b[0;34m(\u001b[0m\u001b[0;34m)\u001b[0m\u001b[0;34m[\u001b[0m\u001b[0;34m\"pid\"\u001b[0m\u001b[0;34m]\u001b[0m\u001b[0;34m:\u001b[0m\u001b[0;34m\u001b[0m\u001b[0m\n\u001b[0m\u001b[1;32m      2\u001b[0m     \u001b[0mTensorBoard\u001b[0m\u001b[0;34m(\u001b[0m\u001b[0;34m)\u001b[0m\u001b[0;34m.\u001b[0m\u001b[0mstop\u001b[0m\u001b[0;34m(\u001b[0m\u001b[0mpid\u001b[0m\u001b[0;34m)\u001b[0m\u001b[0;34m\u001b[0m\u001b[0m\n\u001b[1;32m      3\u001b[0m     \u001b[0mprint\u001b[0m\u001b[0;34m(\u001b[0m\u001b[0;34m\"Stopped TensorBoard with pid {}\"\u001b[0m\u001b[0;34m.\u001b[0m\u001b[0mformat\u001b[0m\u001b[0;34m(\u001b[0m\u001b[0mpid\u001b[0m\u001b[0;34m)\u001b[0m\u001b[0;34m)\u001b[0m\u001b[0;34m\u001b[0m\u001b[0m\n",
      "\u001b[0;31mNameError\u001b[0m: name 'TensorBoard' is not defined"
     ]
    }
   ],
   "source": [
    "for pid in TensorBoard.list()[\"pid\"]:\n",
    "    TensorBoard().stop(pid)\n",
    "    print(\"Stopped TensorBoard with pid {}\".format(pid))"
   ]
  },
  {
   "cell_type": "markdown",
   "metadata": {},
   "source": [
    "# Training locally"
   ]
  },
  {
   "cell_type": "code",
   "execution_count": null,
   "metadata": {},
   "outputs": [],
   "source": [
    "!gcloud ml-engine local train \\\n",
    "    --module-name=train_model.task \\\n",
    "    --package-path=${PWD}/train_model \\\n",
    "    -- \\\n",
    "    --batch_size=20 \\\n",
    "    --output_dir=\"gs://elbird-working-dir/Estimator_Output/6/\""
   ]
  },
  {
   "cell_type": "markdown",
   "metadata": {},
   "source": [
    "# Run preedictions"
   ]
  },
  {
   "cell_type": "code",
   "execution_count": null,
   "metadata": {},
   "outputs": [],
   "source": [
    "!pip install google-cloud-storage"
   ]
  },
  {
   "cell_type": "code",
   "execution_count": null,
   "metadata": {},
   "outputs": [],
   "source": [
    "!pip install google-auth"
   ]
  },
  {
   "cell_type": "code",
   "execution_count": null,
   "metadata": {},
   "outputs": [],
   "source": [
    "!pip install google-api-core==1.6.0"
   ]
  },
  {
   "cell_type": "code",
   "execution_count": null,
   "metadata": {},
   "outputs": [],
   "source": [
    "!pip install gcsfs"
   ]
  },
  {
   "cell_type": "code",
   "execution_count": null,
   "metadata": {},
   "outputs": [],
   "source": [
    "!pip install seaborn"
   ]
  },
  {
   "cell_type": "code",
   "execution_count": null,
   "metadata": {},
   "outputs": [],
   "source": [
    "import tensorflow as tf\n",
    "import tensorflow.keras.estimator as kes\n",
    "from train_model import model\n",
    "from train_model.input_fn import make_input_fn\n",
    "\n",
    "from matplotlib import pyplot as plt\n",
    "import numpy as np\n",
    "import pandas as pd\n",
    "import gcsfs\n",
    "\n",
    "%matplotlib inline\n",
    "\n",
    "\n",
    "params = {}\n",
    "params['test csv'] = \"gs://electric-birder-71281-bird-db/Birds_dB/Mappings/test_set_cloud.csv\"\n",
    "#     params['train csv'] = arguments.pop('train_csv')\n",
    "#     params['eval csv'] = arguments.pop('eval_csv')\n",
    "params['output path'] = \"gs://elbird-working-dir/Estimator_Output/9/\"\n",
    "params['data path'] = 'gs://electric-birder-71281-bird-db/Birds_dB/Images/'\n",
    "params['image size'] = [244, 224]\n",
    "params['num parallel calls'] = 4\n",
    "params[\"batch size\"] = 10\n",
    "params['use random flip'] = True\n",
    "params['learning rate'] = 0.001\n",
    "params['dropout rate'] = 0\n",
    "params['num classes'] = 10\n",
    "params['train steps'] = 100\n",
    "params['eval steps'] = 100\n",
    "params['eval_throttle_secs'] = 600\n",
    "params['isRunOnCloud'] = True\n",
    "params['num parallel calls'] = 4\n",
    "\n",
    "\n",
    "print(\"Getting predictions:\")\n",
    "\n",
    "tf.reset_default_graph()\n",
    "# tf.Graph().as_default()\n",
    "pred = model.go_predict(params)\n",
    "print(type(pred))\n",
    "\n",
    "print(\"PANDAS:\")\n",
    "\n",
    "fs = gcsfs.GCSFileSystem(project='my-project')\n",
    "f = fs.open('gs://electric-birder-71281-bird-db/Birds_dB/Mappings/test_set_cloud.csv')\n",
    "df = pd.read_csv(f, header=None)\n",
    "df.head()\n",
    "\n",
    "print(df.iloc[0,0])\n",
    "    \n",
    "# print(\"TF\")\n",
    "\n",
    "# # tf.reset_default_graph()\n",
    "# # a1 = make_input_fn('gs://electric-birder-71281-bird-db/Birds_dB/Mappings/test_set_cloud.csv',  tf.estimator.ModeKeys.PREDICT, params, augment=False)\n",
    "# # b, c = a1()\n",
    "\n",
    "# print(\"******* Predictions: ************\")\n",
    "classes = ['American Goldfinch (male)', 'Background', 'Black-capped Chickadee','House Sparrow (Female/Juvenile)','House Sparrow (male)','Northern Cardinal (male)','Squirrel']\n",
    "\n",
    "\n",
    "# # with tf.Session() as sess:\n",
    "print(\" HERE:\")\n",
    "count = 0\n",
    "CM = np.zeros((7,7), dtype=np.int, order='C')\n",
    "\n",
    "# for p in pred:\n",
    "\n",
    "N = 300\n",
    "Correct = 0\n",
    "# for i in range(N):\n",
    "for p in pred:\n",
    "#     p = next(pred)\n",
    "    current_pred = p['sm_out']\n",
    "    idx = np.argmax(current_pred)\n",
    "    print(\"Predicted class: \" + classes[idx] + \"; True class: \" + classes[int(df.iloc[count,1])])\n",
    "    CM[np.int(df.iloc[count,1]), idx] += 1\n",
    "    \n",
    "    if idx == int(df.iloc[count,1]):\n",
    "        Correct += 1\n",
    "    count += 1\n",
    "        \n",
    "print(\"Total correct (%): \" + str(Correct/(count+1)*100))    \n",
    "plt.matshow(CM)    \n",
    "    \n",
    "    \n",
    "\n",
    "# # imgs, labls = b.eval()\n",
    "# print(\"LABEL\")\n",
    "# print(labls)\n",
    "# print(\"IMAGE\")\n",
    "# print(imgs)\n",
    "# print(\"PIC:\")\n",
    "# # plt.imshow(imgs['input_1'])\n",
    "# #     plt.title(classes[idx])\n",
    "# #     plt.show()\n",
    "    \n",
    "print(\"DONE!\")  \n"
   ]
  },
  {
   "cell_type": "code",
   "execution_count": null,
   "metadata": {},
   "outputs": [],
   "source": [
    "import seaborn as sn\n",
    "   \n",
    "df_cm = pd.DataFrame(CM, index = [i for i in classes],\n",
    "                  columns = [i for i in classes])\n",
    "sn.heatmap(df_cm, annot=True)"
   ]
  },
  {
   "cell_type": "markdown",
   "metadata": {},
   "source": [
    "# Training on the ML Engine"
   ]
  },
  {
   "cell_type": "code",
   "execution_count": 8,
   "metadata": {},
   "outputs": [
    {
     "name": "stdout",
     "output_type": "stream",
     "text": [
      "gs://elbird-working-dir/Estimator_Output/24/ us-east1 KKJ_190517_220652\n",
      "jobId: KKJ_190517_220652\n",
      "state: QUEUED\n"
     ]
    },
    {
     "name": "stderr",
     "output_type": "stream",
     "text": [
      "Job [KKJ_190517_220652] submitted successfully.\n",
      "Your job is still active. You may view the status of your job with the command\n",
      "\n",
      "  $ gcloud ai-platform jobs describe KKJ_190517_220652\n",
      "\n",
      "or continue streaming the logs with the command\n",
      "\n",
      "  $ gcloud ai-platform jobs stream-logs KKJ_190517_220652\n"
     ]
    }
   ],
   "source": [
    "%%bash\n",
    "OUTDIR=gs:///electric-birder-71281/Estimator_Output/40/\n",
    "JOBNAME=KKJ_$(date -u +%y%m%d_%H%M%S)\n",
    "echo $OUTDIR $REGION $JOBNAME\n",
    "# gsutil -m rm -rf $OUTDIR\n",
    "gcloud ai-platform jobs submit training $JOBNAME \\\n",
    "    --region=$REGION \\\n",
    "    --module-name=train_model.task \\\n",
    "    --package-path=${PWD}/train_model \\\n",
    "    --job-dir=$OUTDIR \\\n",
    "    --staging-bucket=gs://electric-birder-71281/staging/ \\\n",
    "    --scale-tier=BASIC_GPU \\\n",
    "    --runtime-version=$TFVERSION \\\n",
    "    -- \\\n",
    "    --output_dir=$OUTDIR \\\n",
    "    --batch_size=32 \\\n",
    "    --learning_rate=0.00001 \\\n",
    "    --train_steps=1000\n"
   ]
  },
  {
   "cell_type": "code",
   "execution_count": null,
   "metadata": {},
   "outputs": [],
   "source": [
    "!gsutil cp gs://elbird-working-dir/Estimator_Output/20/* gs://elbird-working-dir/Estimator_Output/22/"
   ]
  }
 ],
 "metadata": {
  "kernelspec": {
   "display_name": "Python 3",
   "language": "python",
   "name": "python3"
  },
  "language_info": {
   "codemirror_mode": {
    "name": "ipython",
    "version": 3
   },
   "file_extension": ".py",
   "mimetype": "text/x-python",
   "name": "python",
   "nbconvert_exporter": "python",
   "pygments_lexer": "ipython3",
   "version": "3.7.3"
  },
  "pycharm": {
   "stem_cell": {
    "cell_type": "raw",
    "metadata": {
     "collapsed": false
    },
    "source": []
   }
  }
 },
 "nbformat": 4,
 "nbformat_minor": 2
}
